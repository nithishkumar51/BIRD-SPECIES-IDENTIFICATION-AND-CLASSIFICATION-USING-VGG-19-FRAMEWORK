{
 "cells": [
  {
   "cell_type": "markdown",
   "id": "90600fc2",
   "metadata": {},
   "source": [
    "# Final Notebook"
   ]
  },
  {
   "cell_type": "markdown",
   "id": "c1210e4e",
   "metadata": {},
   "source": [
    "This notebook contain whole pipeline from image processing to predicting the species for Bird Species Identification."
   ]
  },
  {
   "cell_type": "markdown",
   "id": "3d309a6d",
   "metadata": {},
   "source": [
    "## Blog"
   ]
  },
  {
   "cell_type": "markdown",
   "id": "0164b321",
   "metadata": {},
   "source": [
    "https://gouravrathore99.medium.com/a-case-study-on-birds-species-identification-115b0f4965db"
   ]
  },
  {
   "cell_type": "code",
   "execution_count": 1,
   "id": "000d53ef",
   "metadata": {},
   "outputs": [],
   "source": [
    "import numpy as np\n",
    "import pandas as pd\n",
    "import cv2 as cv2\n",
    "from tensorflow.keras.models import load_model\n",
    "from sklearn.metrics import log_loss"
   ]
  },
  {
   "cell_type": "code",
   "execution_count": 2,
   "id": "5977224f",
   "metadata": {},
   "outputs": [],
   "source": [
    "def predict(image_path, model, height, width, preprocess_func = None):\n",
    "    \"\"\"This function predicts the probabilities of an image belonging to\n",
    "    different classes. It takes path to image as string, model as model\n",
    "    object, height and width as integers, and preprocess function if any\n",
    "    for input. It returns the probabilities of the image belonging to\n",
    "    different classes as list, predicted label as integer, top five\n",
    "    labels and their probabilities as list of tuples.\"\"\"\n",
    "    image = cv2.imread(image_path, cv2.IMREAD_UNCHANGED)\n",
    "    image = cv2.resize(image, (height, width), interpolation = cv2.INTER_NEAREST)\n",
    "    image = cv2.cvtColor(image, cv2.COLOR_BGR2RGB)\n",
    "    \n",
    "    if preprocess_func == 'scale':\n",
    "        image *= 1 / 255\n",
    "    elif preprocess_func:\n",
    "        image = preprocess_func(image)\n",
    "    \n",
    "    image = np.expand_dims(image, axis = 0)\n",
    "    y_pred_prob = model.predict(image, verbose = 0)\n",
    "    y_pred = np.argmax(y_pred_prob, axis = 1)\n",
    "    y_top5_prob = np.sort(y_pred_prob)[:, -1:-6:-1]\n",
    "    y_top5_label = np.argsort(y_pred_prob)[:, -1:-6:-1]\n",
    "    top5 = list(zip(y_top5_label[0], y_top5_prob[0]))\n",
    "    \n",
    "    return y_pred_prob[0], y_pred[0], top5"
   ]
  },
  {
   "cell_type": "markdown",
   "id": "6792dcad",
   "metadata": {},
   "source": [
    "## Function 1"
   ]
  },
  {
   "cell_type": "code",
   "execution_count": 3,
   "id": "a1aaedb0",
   "metadata": {},
   "outputs": [],
   "source": [
    "def function1(image_path):\n",
    "    \"\"\"This function predicts the species of bird from its image. It takes\n",
    "    path to the bird image as string for input. It returns the species of\n",
    "    the bird as string and the probability of the bird belonging to that\n",
    "    species.\"\"\"\n",
    "    birds_df = pd.read_csv(\"data/birds_species.csv\")\n",
    "    test_df = birds_df[birds_df['Dataset'] == 'test'].reset_index()\n",
    "    classes = birds_df['Species'].unique()\n",
    "    \n",
    "    height = 128\n",
    "    width = 128\n",
    "    model = load_model(\"data/models/EfficientNet_Finetuned/0.1316-0.9690.h5\")\n",
    "    _, _, top5 = predict(image_path, model, height, width)\n",
    "    \n",
    "    return classes[top5[0][0]], top5[0][1]"
   ]
  },
  {
   "cell_type": "markdown",
   "id": "b307fb45",
   "metadata": {},
   "source": [
    "## Function 2"
   ]
  },
  {
   "cell_type": "code",
   "execution_count": 4,
   "id": "c60eb677",
   "metadata": {},
   "outputs": [],
   "source": [
    "def function2(image_path, true_class):\n",
    "    \"\"\"This function predicts probabilities of bird belonging to different\n",
    "    species and calculates the loss for the model. It takes path to the\n",
    "    bird image and it's true species as string for input. It returns the\n",
    "    cross entropy loss of the model as float.\"\"\"\n",
    "    birds_df = pd.read_csv(\"data/birds_species.csv\")\n",
    "    test_df = birds_df[birds_df['Dataset'] == 'test'].reset_index()\n",
    "    classes = birds_df['Species'].unique()\n",
    "    labels = birds_df['Label'].unique()\n",
    "    true_label = list(classes).index(true_class)\n",
    "    height = 128\n",
    "    width = 128\n",
    "    model = load_model(\"data/models/EfficientNet_Finetuned/0.1316-0.9690.h5\")\n",
    "    y_prob, _, _ = predict(image_path, model, height, width)\n",
    "    loss = log_loss([true_label], [y_prob], labels = labels)\n",
    "    \n",
    "    return loss"
   ]
  },
  {
   "cell_type": "code",
   "execution_count": 5,
   "id": "d6a7dcff",
   "metadata": {},
   "outputs": [
    {
     "name": "stdout",
     "output_type": "stream",
     "text": [
      "The Bird belongs to AFRICAN CROWNED CRANE species with probability of 0.9999936819076538.\n"
     ]
    }
   ],
   "source": [
    "image_path = r\"data\\images to test\\2.jpg\"\n",
    "species, confidence = function1(image_path)\n",
    "print(\"The Bird belongs to {} species with probability of {}.\".format(species, confidence))"
   ]
  },
  {
   "cell_type": "code",
   "execution_count": 6,
   "id": "391bf124",
   "metadata": {},
   "outputs": [
    {
     "name": "stdout",
     "output_type": "stream",
     "text": [
      "The Cross Entropy loss for the model is 6.318111900327494e-06\n"
     ]
    }
   ],
   "source": [
    "true_species = \"AFRICAN CROWNED CRANE\"\n",
    "loss = function2(image_path, true_species)\n",
    "print(\"The Cross Entropy loss for the model is\", loss)"
   ]
  }
 ],
 "metadata": {
  "kernelspec": {
   "display_name": "Python 3 (ipykernel)",
   "language": "python",
   "name": "python3"
  },
  "language_info": {
   "codemirror_mode": {
    "name": "ipython",
    "version": 3
   },
   "file_extension": ".py",
   "mimetype": "text/x-python",
   "name": "python",
   "nbconvert_exporter": "python",
   "pygments_lexer": "ipython3",
   "version": "3.10.2"
  }
 },
 "nbformat": 4,
 "nbformat_minor": 5
}
